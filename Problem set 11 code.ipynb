{
 "cells": [
  {
   "cell_type": "markdown",
   "metadata": {},
   "source": [
    "Problem Set 11: Wednesday and Friday Problems\n",
    " \n",
    "    "
   ]
  },
  {
   "cell_type": "code",
   "execution_count": 13,
   "metadata": {
    "scrolled": false
   },
   "outputs": [],
   "source": [
    "import IPython; IPython.__version__\n",
    "import pandas as pd\n",
    "import altair as alt\n",
    "#alt.renderers.enable('notebook')\n",
    "\n",
    "from vega_datasets import data\n",
    "cars = data.cars()\n",
    "\n",
    "#print(cars.columns)"
   ]
  },
  {
   "cell_type": "code",
   "execution_count": 16,
   "metadata": {},
   "outputs": [
    {
     "data": {
      "text/html": [
       "<div>\n",
       "<style scoped>\n",
       "    .dataframe tbody tr th:only-of-type {\n",
       "        vertical-align: middle;\n",
       "    }\n",
       "\n",
       "    .dataframe tbody tr th {\n",
       "        vertical-align: top;\n",
       "    }\n",
       "\n",
       "    .dataframe thead th {\n",
       "        text-align: right;\n",
       "    }\n",
       "</style>\n",
       "<table border=\"1\" class=\"dataframe\">\n",
       "  <thead>\n",
       "    <tr style=\"text-align: right;\">\n",
       "      <th></th>\n",
       "      <th>Text</th>\n",
       "      <th>Author</th>\n",
       "      <th>Positive</th>\n",
       "      <th>Negative</th>\n",
       "      <th>Neutral</th>\n",
       "    </tr>\n",
       "  </thead>\n",
       "  <tbody>\n",
       "    <tr>\n",
       "      <th>0</th>\n",
       "      <td>jew_of_malta.txt</td>\n",
       "      <td>Marlowe</td>\n",
       "      <td>0.120</td>\n",
       "      <td>0.090</td>\n",
       "      <td>0.790</td>\n",
       "    </tr>\n",
       "    <tr>\n",
       "      <th>1</th>\n",
       "      <td>massacre_at_paris.txt</td>\n",
       "      <td>Marlowe</td>\n",
       "      <td>0.121</td>\n",
       "      <td>0.080</td>\n",
       "      <td>0.798</td>\n",
       "    </tr>\n",
       "    <tr>\n",
       "      <th>2</th>\n",
       "      <td>tamburlaine.txt</td>\n",
       "      <td>Marlowe</td>\n",
       "      <td>0.141</td>\n",
       "      <td>0.091</td>\n",
       "      <td>0.768</td>\n",
       "    </tr>\n",
       "    <tr>\n",
       "      <th>3</th>\n",
       "      <td>faustus.txt</td>\n",
       "      <td>Marlowe</td>\n",
       "      <td>0.119</td>\n",
       "      <td>0.089</td>\n",
       "      <td>0.792</td>\n",
       "    </tr>\n",
       "    <tr>\n",
       "      <th>4</th>\n",
       "      <td>dido_queen_of_carthage.txt</td>\n",
       "      <td>Marlowe</td>\n",
       "      <td>0.087</td>\n",
       "      <td>0.062</td>\n",
       "      <td>0.851</td>\n",
       "    </tr>\n",
       "  </tbody>\n",
       "</table>\n",
       "</div>"
      ],
      "text/plain": [
       "                         Text   Author  Positive  Negative  Neutral\n",
       "0            jew_of_malta.txt  Marlowe     0.120     0.090    0.790\n",
       "1       massacre_at_paris.txt  Marlowe     0.121     0.080    0.798\n",
       "2             tamburlaine.txt  Marlowe     0.141     0.091    0.768\n",
       "3                 faustus.txt  Marlowe     0.119     0.089    0.792\n",
       "4  dido_queen_of_carthage.txt  Marlowe     0.087     0.062    0.851"
      ]
     },
     "execution_count": 16,
     "metadata": {},
     "output_type": "execute_result"
    }
   ],
   "source": [
    "df = pd.read_csv(\"sentimentData.csv\")\n",
    "df.head()"
   ]
  },
  {
   "cell_type": "markdown",
   "metadata": {},
   "source": [
    "Problem 5"
   ]
  },
  {
   "cell_type": "markdown",
   "metadata": {},
   "source": [
    "The visualization below indicates that Marlowe's plays were more \"positive\" in style compared to Shakespeare's. "
   ]
  },
  {
   "cell_type": "code",
   "execution_count": 19,
   "metadata": {},
   "outputs": [
    {
     "data": {
      "application/vnd.vegalite.v2+json": {
       "$schema": "https://vega.github.io/schema/vega-lite/v2.6.0.json",
       "config": {
        "view": {
         "height": 300,
         "width": 400
        }
       },
       "data": {
        "name": "data-033e35f39209e7bd9450bf4e917ef80e"
       },
       "datasets": {
        "data-033e35f39209e7bd9450bf4e917ef80e": [
         {
          "Author": "Marlowe",
          "Negative": 0.09,
          "Neutral": 0.79,
          "Positive": 0.12,
          "Text": "jew_of_malta.txt"
         },
         {
          "Author": "Marlowe",
          "Negative": 0.08,
          "Neutral": 0.7979999999999999,
          "Positive": 0.121,
          "Text": "massacre_at_paris.txt"
         },
         {
          "Author": "Marlowe",
          "Negative": 0.091,
          "Neutral": 0.768,
          "Positive": 0.141,
          "Text": "tamburlaine.txt"
         },
         {
          "Author": "Marlowe",
          "Negative": 0.08900000000000001,
          "Neutral": 0.792,
          "Positive": 0.11900000000000001,
          "Text": "faustus.txt"
         },
         {
          "Author": "Marlowe",
          "Negative": 0.062,
          "Neutral": 0.851,
          "Positive": 0.087,
          "Text": "dido_queen_of_carthage.txt"
         },
         {
          "Author": "Marlowe",
          "Negative": 0.11199999999999999,
          "Neutral": 0.755,
          "Positive": 0.133,
          "Text": "edward_II.txt"
         },
         {
          "Author": "Marlowe",
          "Negative": 0.1,
          "Neutral": 0.71,
          "Positive": 0.19,
          "Text": "hero_and_leander.txt"
         },
         {
          "Author": "Shakespeare",
          "Negative": 0.084,
          "Neutral": 0.794,
          "Positive": 0.122,
          "Text": "henry_vi_3.txt"
         },
         {
          "Author": "Shakespeare",
          "Negative": 0.09300000000000001,
          "Neutral": 0.7290000000000001,
          "Positive": 0.179,
          "Text": "love_labours_lost.txt"
         },
         {
          "Author": "Shakespeare",
          "Negative": 0.08900000000000001,
          "Neutral": 0.797,
          "Positive": 0.114,
          "Text": "henry_vi_2.txt"
         },
         {
          "Author": "Shakespeare",
          "Negative": 0.132,
          "Neutral": 0.731,
          "Positive": 0.138,
          "Text": "henry_vi_1.txt"
         },
         {
          "Author": "Shakespeare",
          "Negative": 0.147,
          "Neutral": 0.695,
          "Positive": 0.157,
          "Text": "richard_iii.txt"
         },
         {
          "Author": "Shakespeare",
          "Negative": 0.073,
          "Neutral": 0.767,
          "Positive": 0.159,
          "Text": "taming_of_the_shrew.txt"
         },
         {
          "Author": "Shakespeare",
          "Negative": 0.09300000000000001,
          "Neutral": 0.733,
          "Positive": 0.174,
          "Text": "two_gentleman_of_verona.txt"
         },
         {
          "Author": "Shakespeare",
          "Negative": 0.085,
          "Neutral": 0.8290000000000001,
          "Positive": 0.086,
          "Text": "comedy_of_errors.txt"
         },
         {
          "Author": "Shakespeare",
          "Negative": 0.126,
          "Neutral": 0.721,
          "Positive": 0.152,
          "Text": "edward_iii.txt"
         },
         {
          "Author": "Shakespeare",
          "Negative": 0.13699999999999998,
          "Neutral": 0.723,
          "Positive": 0.14,
          "Text": "titus_andronicus.txt"
         }
        ]
       },
       "encoding": {
        "x": {
         "field": "Author",
         "type": "nominal"
        },
        "y": {
         "field": "Positive",
         "type": "quantitative"
        }
       },
       "mark": "bar",
       "selection": {
        "selector004": {
         "bind": "scales",
         "encodings": [
          "x",
          "y"
         ],
         "mark": {
          "fill": "#333",
          "fillOpacity": 0.125,
          "stroke": "white"
         },
         "on": "[mousedown, window:mouseup] > window:mousemove!",
         "resolve": "global",
         "translate": "[mousedown, window:mouseup] > window:mousemove!",
         "type": "interval",
         "zoom": "wheel!"
        }
       }
      },
      "image/png": "[encoded data removed]",
      "text/plain": [
       "<VegaLite 2 object>\n",
       "\n",
       "If you see this message, it means the renderer has not been properly enabled\n",
       "for the frontend that you are using. For more information, see\n",
       "https://altair-viz.github.io/user_guide/troubleshooting.html\n"
      ]
     },
     "execution_count": 19,
     "metadata": {},
     "output_type": "execute_result"
    }
   ],
   "source": [
    "#Problem 5\n",
    "\n",
    "alt.Chart(df).mark_bar().encode(\n",
    "    x='Author',\n",
    "    y='Positive'\n",
    ").interactive()"
   ]
  },
  {
   "cell_type": "code",
   "execution_count": 20,
   "metadata": {},
   "outputs": [
    {
     "data": {
      "text/html": [
       "<div>\n",
       "<style scoped>\n",
       "    .dataframe tbody tr th:only-of-type {\n",
       "        vertical-align: middle;\n",
       "    }\n",
       "\n",
       "    .dataframe tbody tr th {\n",
       "        vertical-align: top;\n",
       "    }\n",
       "\n",
       "    .dataframe thead th {\n",
       "        text-align: right;\n",
       "    }\n",
       "</style>\n",
       "<table border=\"1\" class=\"dataframe\">\n",
       "  <thead>\n",
       "    <tr style=\"text-align: right;\">\n",
       "      <th></th>\n",
       "      <th>Text</th>\n",
       "      <th>Author</th>\n",
       "      <th>Word</th>\n",
       "      <th>Count</th>\n",
       "      <th>TFIDF</th>\n",
       "    </tr>\n",
       "  </thead>\n",
       "  <tbody>\n",
       "    <tr>\n",
       "      <th>0</th>\n",
       "      <td>jew_of_malta.txt</td>\n",
       "      <td>Marlowe</td>\n",
       "      <td>﻿The</td>\n",
       "      <td>1</td>\n",
       "      <td>0.166667</td>\n",
       "    </tr>\n",
       "    <tr>\n",
       "      <th>1</th>\n",
       "      <td>jew_of_malta.txt</td>\n",
       "      <td>Marlowe</td>\n",
       "      <td>Project</td>\n",
       "      <td>83</td>\n",
       "      <td>11.857143</td>\n",
       "    </tr>\n",
       "    <tr>\n",
       "      <th>2</th>\n",
       "      <td>jew_of_malta.txt</td>\n",
       "      <td>Marlowe</td>\n",
       "      <td>Gutenberg</td>\n",
       "      <td>27</td>\n",
       "      <td>3.857143</td>\n",
       "    </tr>\n",
       "    <tr>\n",
       "      <th>3</th>\n",
       "      <td>jew_of_malta.txt</td>\n",
       "      <td>Marlowe</td>\n",
       "      <td>EBook</td>\n",
       "      <td>3</td>\n",
       "      <td>0.500000</td>\n",
       "    </tr>\n",
       "    <tr>\n",
       "      <th>4</th>\n",
       "      <td>jew_of_malta.txt</td>\n",
       "      <td>Marlowe</td>\n",
       "      <td>of</td>\n",
       "      <td>568</td>\n",
       "      <td>81.142857</td>\n",
       "    </tr>\n",
       "  </tbody>\n",
       "</table>\n",
       "</div>"
      ],
      "text/plain": [
       "               Text   Author       Word  Count      TFIDF\n",
       "0  jew_of_malta.txt  Marlowe       ﻿The      1   0.166667\n",
       "1  jew_of_malta.txt  Marlowe    Project     83  11.857143\n",
       "2  jew_of_malta.txt  Marlowe  Gutenberg     27   3.857143\n",
       "3  jew_of_malta.txt  Marlowe      EBook      3   0.500000\n",
       "4  jew_of_malta.txt  Marlowe         of    568  81.142857"
      ]
     },
     "execution_count": 20,
     "metadata": {},
     "output_type": "execute_result"
    }
   ],
   "source": [
    "df_raw = pd.read_csv(\"rawCounts.csv\")\n",
    "df_raw.head()"
   ]
  },
  {
   "cell_type": "markdown",
   "metadata": {},
   "source": [
    "Problem 6\n",
    "\n",
    "Instructions: Build a visualization that allows you to explore the correlation of word counts for Marlowe and Shakespeare. What does this tell you about the styles of the two authors? Note: You will need to aggregate your data to answer this question."
   ]
  },
  {
   "cell_type": "code",
   "execution_count": null,
   "metadata": {},
   "outputs": [],
   "source": [
    "df_aggr = "
   ]
  },
  {
   "cell_type": "code",
   "execution_count": null,
   "metadata": {},
   "outputs": [],
   "source": [
    "alt.Chart(df).mark_bar().encode(\n",
    "    x='Author',\n",
    "    y='Positive'\n",
    ").interactive()"
   ]
  },
  {
   "cell_type": "markdown",
   "metadata": {},
   "source": [
    "Tutorial References"
   ]
  },
  {
   "cell_type": "code",
   "execution_count": 27,
   "metadata": {},
   "outputs": [],
   "source": [
    "#alt.Chart(cars).mark_point().encode(\n",
    "    #x='Horsepower',\n",
    "    #y='Miles_per_Gallon',\n",
    "    #color='Origin'\n",
    "#).interactive()"
   ]
  },
  {
   "cell_type": "code",
   "execution_count": 26,
   "metadata": {},
   "outputs": [],
   "source": [
    "#alt.Chart(cars).mark_bar().encode(\n",
    "    #x='Name',\n",
    "    #y='Cylinders',\n",
    "\n",
    "#)"
   ]
  },
  {
   "cell_type": "code",
   "execution_count": 23,
   "metadata": {
    "collapsed": true
   },
   "outputs": [],
   "source": [
    "#alt.Chart(cars).mark_bar().encode(\n",
    "   #x='Year',\n",
    "    #y='average(cylinders)',\n",
    "\n",
    "#)"
   ]
  },
  {
   "cell_type": "code",
   "execution_count": 21,
   "metadata": {},
   "outputs": [],
   "source": [
    "#alt.Chart(cars).mark_bar().encode(\n",
    "    #alt.X('Horsepower', bin=True),\n",
    "    #y='count()',\n",
    "\n",
    "#)"
   ]
  },
  {
   "cell_type": "code",
   "execution_count": 22,
   "metadata": {
    "collapsed": true
   },
   "outputs": [],
   "source": [
    "#alt.Chart(cars).mark_point().encode(\n",
    "    #x='Horsepower'\n",
    "    #y='Acceleration',\n",
    "    #color = 'Origin'\n",
    "    #size = 'Year'\n",
    "#).interactive()"
   ]
  }
 ],
 "metadata": {
  "anaconda-cloud": {},
  "kernelspec": {
   "display_name": "Python 3",
   "language": "python",
   "name": "python3"
  },
  "language_info": {
   "codemirror_mode": {
    "name": "ipython",
    "version": 3
   },
   "file_extension": ".py",
   "mimetype": "text/x-python",
   "name": "python",
   "nbconvert_exporter": "python",
   "pygments_lexer": "ipython3",
   "version": "3.6.6"
  }
 },
 "nbformat": 4,
 "nbformat_minor": 2
}
